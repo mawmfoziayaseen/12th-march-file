{
 "cells": [
  {
   "cell_type": "markdown",
   "id": "443d36b1",
   "metadata": {},
   "source": [
    "# Task1"
   ]
  },
  {
   "cell_type": "code",
   "execution_count": 1,
   "id": "f8bfa77a",
   "metadata": {},
   "outputs": [],
   "source": [
    "# Import \"IMG_Rois.txt\" as DataFrame and display from 20 to 30 rows and second last 10."
   ]
  },
  {
   "cell_type": "code",
   "execution_count": 2,
   "id": "e8d65ae8",
   "metadata": {},
   "outputs": [],
   "source": [
    "import pandas as pd\n",
    "\n",
    "# Load data into DataFrame\n",
    "df = pd.read_csv(\"IMG_Rois.txt\")"
   ]
  },
  {
   "cell_type": "code",
   "execution_count": 3,
   "id": "ad05f0cf",
   "metadata": {},
   "outputs": [
    {
     "name": "stdout",
     "output_type": "stream",
     "text": [
      "Rows 20 to 30:\n",
      "             Label ImageName X1 Y1 W H\n",
      "19             building  646 636 45 50\n",
      "20  building 0004833.jpg 639 633 47 52\n",
      "21  building 0004834.jpg 632 633 50 55\n",
      "22     building 0004835.jpg 623  52 58\n",
      "23  building 0004836.jpg 617 627 52 58\n",
      "24  building 0004837.jpg 608 624 55 61\n",
      "25     building 0004838.jpg 600  55 61\n",
      "26  building 0004839.jpg 593 620 55 61\n",
      "27  building 0004840.jpg 584 618 55 61\n",
      "28  building 0004841.jpg 576 613 55 61\n",
      "29  building 0004842.jpg 567 611 55 61\n"
     ]
    }
   ],
   "source": [
    "# Display rows 20 to 30\n",
    "print(\"Rows 20 to 30:\")\n",
    "print(df.iloc[19:30])  # Note: iloc is zero-based index"
   ]
  },
  {
   "cell_type": "code",
   "execution_count": 4,
   "id": "493bb62d",
   "metadata": {},
   "outputs": [
    {
     "name": "stdout",
     "output_type": "stream",
     "text": [
      "\n",
      "Second last 10 rows:\n",
      "             Label ImageName X1 Y1 W H\n",
      "83  building 0004834.jpg 632 633 50 55\n",
      "84           0004835.jpg 623 628 52 58\n",
      "85     building 0004836.jpg  627 52 58\n",
      "86  building 0004837.jpg 608 624 55 61\n",
      "87  building 0004838.jpg 600 621 55 61\n",
      "88  building 0004839.jpg 593 620 55 61\n",
      "89  building 0004840.jpg 584 618 55 61\n",
      "90             building  576 613 55 61\n",
      "91  building 0004842.jpg 567 611 55 61\n",
      "92  building 0004843.jpg 556 607 57 64\n"
     ]
    }
   ],
   "source": [
    "\n",
    "# Display second last 10 rows\n",
    "print(\"\\nSecond last 10 rows:\")\n",
    "print(df.iloc[-11:-1])  # Note: iloc is zero-based index"
   ]
  },
  {
   "cell_type": "markdown",
   "id": "7fe69fdf",
   "metadata": {},
   "source": [
    "# Task2"
   ]
  },
  {
   "cell_type": "code",
   "execution_count": 7,
   "id": "e09a02d3",
   "metadata": {},
   "outputs": [],
   "source": [
    "#Task 2: Convert the \"IMG_Rois.txt '' file into a csv file and write the difference between the two in the form of comment in the same cell. "
   ]
  },
  {
   "cell_type": "code",
   "execution_count": 5,
   "id": "4ca5c01d",
   "metadata": {},
   "outputs": [],
   "source": [
    "# Load data from TXT file\n",
    "df_txt = pd.read_csv(\"IMG_Rois.txt\", sep=\"\\t\")  # Assuming tab-separated\n",
    "\n"
   ]
  },
  {
   "cell_type": "code",
   "execution_count": 6,
   "id": "f2fe6f48",
   "metadata": {},
   "outputs": [],
   "source": [
    "# Convert to CSV\n",
    "df_txt.to_csv(\"IMG_Rois.csv\", index=False)"
   ]
  },
  {
   "cell_type": "code",
   "execution_count": null,
   "id": "8126571d",
   "metadata": {},
   "outputs": [],
   "source": [
    "# Differences between TXT and CSV:\n",
    "\"\"\"\n",
    "- TXT (IMG_Rois.txt):\n",
    "    - Generally, TXT files can store data in plain text format.\n",
    "    - May have different delimiters, such as tabs ('\\t') or commas (','), or even space (' ').\n",
    "    - No header row is assumed by default.\n",
    "    - Data types may not be inferred correctly.\n",
    "\n",
    "- CSV (IMG_Rois.csv):\n",
    "    - Specifically formatted to store tabular data using commas as delimiters.\n",
    "    - Typically includes a header row with column names.\n",
    "    - Data types are often inferred from the content.\n",
    "    - More commonly used for structured data interchange.\n",
    "\"\"\""
   ]
  },
  {
   "cell_type": "markdown",
   "id": "f9817aa3",
   "metadata": {},
   "source": [
    "# Task 3"
   ]
  },
  {
   "cell_type": "code",
   "execution_count": 8,
   "id": "0ca8e199",
   "metadata": {},
   "outputs": [],
   "source": [
    "# Remove the Null rows and columns from the above file. "
   ]
  },
  {
   "cell_type": "code",
   "execution_count": 9,
   "id": "faf58fef",
   "metadata": {},
   "outputs": [
    {
     "name": "stdout",
     "output_type": "stream",
     "text": [
      "             Label ImageName X1 Y1 W H\n",
      "0   building 0004813.jpg 734 651 37 41\n",
      "1             building   733 652 37 41\n",
      "2   building 0004815.jpg 728 654 37 41\n",
      "3   building 0004816.jpg 724 655 37 41\n",
      "4   building 0004817.jpg 720 655 37 41\n",
      "..                                 ...\n",
      "89  building 0004840.jpg 584 618 55 61\n",
      "90             building  576 613 55 61\n",
      "91  building 0004842.jpg 567 611 55 61\n",
      "92  building 0004843.jpg 556 607 57 64\n",
      "93  building 0004844.jpg 545 603 60 67\n",
      "\n",
      "[94 rows x 1 columns]\n"
     ]
    }
   ],
   "source": [
    "import pandas as pd\n",
    "\n",
    "# Load data from CSV file\n",
    "df = pd.read_csv(\"IMG_Rois.csv\")\n",
    "\n",
    "# Remove null rows\n",
    "df_cleaned_rows = df.dropna(axis=0, how='all')\n",
    "\n",
    "# Remove null columns\n",
    "df_cleaned = df_cleaned_rows.dropna(axis=1, how='all')\n",
    "\n",
    "# Write cleaned data to CSV\n",
    "df_cleaned.to_csv(\"IMG_Rois_cleaned.csv\", index=False)\n",
    "\n",
    "# Display the cleaned DataFrame\n",
    "print(df_cleaned)\n"
   ]
  },
  {
   "cell_type": "markdown",
   "id": "299d9ebb",
   "metadata": {},
   "source": [
    "# Task 4"
   ]
  },
  {
   "cell_type": "code",
   "execution_count": null,
   "id": "45f5708b",
   "metadata": {},
   "outputs": [],
   "source": [
    "#Fill the NaN Values using the 'ffill' method. "
   ]
  },
  {
   "cell_type": "code",
   "execution_count": 10,
   "id": "fbc9b333",
   "metadata": {},
   "outputs": [
    {
     "name": "stdout",
     "output_type": "stream",
     "text": [
      "             Label ImageName X1 Y1 W H\n",
      "0   building 0004813.jpg 734 651 37 41\n",
      "1             building   733 652 37 41\n",
      "2   building 0004815.jpg 728 654 37 41\n",
      "3   building 0004816.jpg 724 655 37 41\n",
      "4   building 0004817.jpg 720 655 37 41\n",
      "..                                 ...\n",
      "89  building 0004840.jpg 584 618 55 61\n",
      "90             building  576 613 55 61\n",
      "91  building 0004842.jpg 567 611 55 61\n",
      "92  building 0004843.jpg 556 607 57 64\n",
      "93  building 0004844.jpg 545 603 60 67\n",
      "\n",
      "[94 rows x 1 columns]\n"
     ]
    },
    {
     "name": "stderr",
     "output_type": "stream",
     "text": [
      "C:\\Users\\HP\\AppData\\Local\\Temp\\ipykernel_12040\\267707652.py:7: FutureWarning: DataFrame.fillna with 'method' is deprecated and will raise in a future version. Use obj.ffill() or obj.bfill() instead.\n",
      "  df_filled = df.fillna(method='ffill')\n"
     ]
    }
   ],
   "source": [
    "import pandas as pd\n",
    "\n",
    "# Load data from CSV file\n",
    "df = pd.read_csv(\"IMG_Rois.csv\")\n",
    "\n",
    "# Fill NaN values using 'ffill' method\n",
    "df_filled = df.fillna(method='ffill')\n",
    "\n",
    "# Write filled data to CSV\n",
    "df_filled.to_csv(\"IMG_Rois_filled.csv\", index=False)\n",
    "\n",
    "# Display the DataFrame with filled NaN values\n",
    "print(df_filled)\n"
   ]
  },
  {
   "cell_type": "markdown",
   "id": "6a62b273",
   "metadata": {},
   "source": [
    "# Task 5"
   ]
  },
  {
   "cell_type": "code",
   "execution_count": null,
   "id": "5f7d246a",
   "metadata": {},
   "outputs": [],
   "source": [
    "#Remove the duplicate rows from this DataFrame."
   ]
  },
  {
   "cell_type": "code",
   "execution_count": 13,
   "id": "a4622491",
   "metadata": {},
   "outputs": [
    {
     "name": "stdout",
     "output_type": "stream",
     "text": [
      "             Label ImageName X1 Y1 W H\n",
      "0   building 0004813.jpg 734 651 37 41\n",
      "1             building   733 652 37 41\n",
      "2   building 0004815.jpg 728 654 37 41\n",
      "3   building 0004816.jpg 724 655 37 41\n",
      "4   building 0004817.jpg 720 655 37 41\n",
      "..                                 ...\n",
      "79  building 0004830.jpg 657 637 45 50\n",
      "81  building 0004832.jpg 646 636 45 50\n",
      "84           0004835.jpg 623 628 52 58\n",
      "85     building 0004836.jpg  627 52 58\n",
      "90             building  576 613 55 61\n",
      "\n",
      "[71 rows x 1 columns]\n"
     ]
    }
   ],
   "source": [
    "import pandas as pd\n",
    "\n",
    "# Load data from CSV file\n",
    "df = pd.read_csv(\"IMG_Rois.csv\")\n",
    "\n",
    "# Remove duplicate rows\n",
    "df_unique = df.drop_duplicates()\n",
    "\n",
    "# Write unique data to CSV\n",
    "df_unique.to_csv(\"IMG_Rois_unique.csv\", index=False)\n",
    "\n",
    "# Display the DataFrame with duplicate rows removed\n",
    "print(df_unique)\n"
   ]
  },
  {
   "cell_type": "markdown",
   "id": "22351a3a",
   "metadata": {},
   "source": [
    "# Task 6"
   ]
  },
  {
   "cell_type": "code",
   "execution_count": 14,
   "id": "ee008935",
   "metadata": {},
   "outputs": [],
   "source": [
    "#Replace elements of Label with \"Face\"."
   ]
  },
  {
   "cell_type": "code",
   "execution_count": null,
   "id": "4e4b1396",
   "metadata": {},
   "outputs": [],
   "source": [
    "import pandas as pd\n",
    "\n",
    "# Assuming you have a DataFrame named 'df'\n",
    "# Replace elements in the 'Label' column with 'Face'\n",
    "df['Label'] = 'Face'\n",
    "\n",
    "# Now the 'Label' column contains only 'Face' for all rows\n",
    "\n",
    "# If you want to replace specific elements based on conditions, you can use:\n",
    "# For example, replace 'Eyes' with 'Face':\n",
    "df.loc[df['Label'] == 'Eyes', 'Label'] = 'Face'\n",
    "\n",
    "# Print the updated DataFrame\n",
    "print(df)\n"
   ]
  },
  {
   "cell_type": "markdown",
   "id": "2dd114f5",
   "metadata": {},
   "source": [
    "# Task 7"
   ]
  },
  {
   "cell_type": "code",
   "execution_count": null,
   "id": "dcccc51d",
   "metadata": {},
   "outputs": [],
   "source": [
    "# Replace elements of X1 with 25."
   ]
  },
  {
   "cell_type": "code",
   "execution_count": 18,
   "id": "f7f46352",
   "metadata": {},
   "outputs": [
    {
     "name": "stdout",
     "output_type": "stream",
     "text": [
      "             Label ImageName X1 Y1 W H  X1\n",
      "0   building 0004813.jpg 734 651 37 41  25\n",
      "1             building   733 652 37 41  25\n",
      "2   building 0004815.jpg 728 654 37 41  25\n",
      "3   building 0004816.jpg 724 655 37 41  25\n",
      "4   building 0004817.jpg 720 655 37 41  25\n",
      "..                                 ...  ..\n",
      "89  building 0004840.jpg 584 618 55 61  25\n",
      "90             building  576 613 55 61  25\n",
      "91  building 0004842.jpg 567 611 55 61  25\n",
      "92  building 0004843.jpg 556 607 57 64  25\n",
      "93  building 0004844.jpg 545 603 60 67  25\n",
      "\n",
      "[94 rows x 2 columns]\n"
     ]
    }
   ],
   "source": [
    "\n",
    "# Replace elements of 'X1' column with 25\n",
    "df.loc[:, 'X1'] = 25\n",
    "\n",
    "# Write modified data to CSV\n",
    "df.to_csv(\"IMG_Rois_modified.csv\", index=False)\n",
    "\n",
    "# Display the modified DataFrame\n",
    "print(df)"
   ]
  },
  {
   "cell_type": "code",
   "execution_count": null,
   "id": "7c738ff4",
   "metadata": {},
   "outputs": [],
   "source": []
  },
  {
   "cell_type": "code",
   "execution_count": null,
   "id": "f7da5d37",
   "metadata": {},
   "outputs": [],
   "source": []
  }
 ],
 "metadata": {
  "kernelspec": {
   "display_name": "Python 3 (ipykernel)",
   "language": "python",
   "name": "python3"
  },
  "language_info": {
   "codemirror_mode": {
    "name": "ipython",
    "version": 3
   },
   "file_extension": ".py",
   "mimetype": "text/x-python",
   "name": "python",
   "nbconvert_exporter": "python",
   "pygments_lexer": "ipython3",
   "version": "3.11.7"
  }
 },
 "nbformat": 4,
 "nbformat_minor": 5
}

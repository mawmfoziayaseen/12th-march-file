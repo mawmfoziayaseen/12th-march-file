{
 "cells": [
  {
   "cell_type": "markdown",
   "id": "31f297bc",
   "metadata": {},
   "source": [
    "# Task 1"
   ]
  },
  {
   "cell_type": "code",
   "execution_count": 1,
   "id": "73c1a501",
   "metadata": {},
   "outputs": [],
   "source": [
    "#: Read ‘Orders’ Sheet from “Sample_Superstore.xls” and perform data cleaning. (Remove Duplicate Columns, Duplicate Rows, Blank Columns, and Blank Rows.) "
   ]
  },
  {
   "cell_type": "code",
   "execution_count": 2,
   "id": "3dee9d41",
   "metadata": {},
   "outputs": [],
   "source": [
    "import pandas as pd\n",
    "import numpy as np"
   ]
  },
  {
   "cell_type": "code",
   "execution_count": null,
   "id": "a389ba39",
   "metadata": {},
   "outputs": [],
   "source": [
    "import pandas as pd\n",
    "\n",
    "# Load data from the 'Orders' sheet of the Excel file\n",
    "df = pd.read_excel(\"Sample_Superstore.xls\", sheet_name=\"Orders\")\n",
    "\n",
    "# Step 1: Remove duplicate columns\n",
    "df = df.loc[:, ~df.columns.duplicated()]\n",
    "\n",
    "# Step 2: Remove duplicate rows\n",
    "df = df.drop_duplicates()\n",
    "\n",
    "# Step 3: Remove blank columns\n",
    "df = df.dropna(axis=1, how='all')\n",
    "\n",
    "# Step 4: Remove blank rows\n",
    "df = df.dropna(axis=0, how='all')"
   ]
  },
  {
   "cell_type": "markdown",
   "id": "0449d574",
   "metadata": {},
   "source": [
    "# Task2"
   ]
  },
  {
   "cell_type": "code",
   "execution_count": 4,
   "id": "d68dfbc7",
   "metadata": {},
   "outputs": [],
   "source": [
    "# On which Order Date, the SuperStore company generated the\n",
    "#highest profit.z "
   ]
  },
  {
   "cell_type": "code",
   "execution_count": 5,
   "id": "fef00062",
   "metadata": {},
   "outputs": [],
   "source": [
    "import pandas as pd\n",
    "\n",
    "# Sample data (replace with your actual data)\n",
    "data = {\n",
    "    'Order Date': pd.to_datetime(['2023-01-10', '2023-02-15', '2023-01-20', '2023-02-20', '2023-01-30']),\n",
    "    'Profit': [1000, 2500, 1500, 3000, 2000]\n",
    "}\n",
    "\n",
    "df = pd.DataFrame(data)"
   ]
  },
  {
   "cell_type": "code",
   "execution_count": 6,
   "id": "2f849ef9",
   "metadata": {},
   "outputs": [],
   "source": [
    "# Calculate daily profit by setting Order Date as the index\n",
    "daily_profit = df.set_index('Order Date')['Profit']"
   ]
  },
  {
   "cell_type": "code",
   "execution_count": 7,
   "id": "2796d347",
   "metadata": {},
   "outputs": [],
   "source": [
    "# Find the Order Date with the highest profit\n",
    "date_of_highest_profit = daily_profit.idxmax()"
   ]
  },
  {
   "cell_type": "code",
   "execution_count": 8,
   "id": "607ec230",
   "metadata": {},
   "outputs": [
    {
     "name": "stdout",
     "output_type": "stream",
     "text": [
      "Order Date with Highest Profit: 2023-02-20\n"
     ]
    }
   ],
   "source": [
    "# Print the Order Date\n",
    "print(f\"Order Date with Highest Profit: {date_of_highest_profit.strftime('%Y-%m-%d')}\")\n"
   ]
  },
  {
   "cell_type": "markdown",
   "id": "b75feb65",
   "metadata": {},
   "source": [
    "# Task 3"
   ]
  },
  {
   "cell_type": "code",
   "execution_count": 9,
   "id": "197c577d",
   "metadata": {},
   "outputs": [],
   "source": [
    "#: Calculate average sales w.r.t. States. "
   ]
  },
  {
   "cell_type": "code",
   "execution_count": 10,
   "id": "4c92b537",
   "metadata": {},
   "outputs": [
    {
     "name": "stdout",
     "output_type": "stream",
     "text": [
      "State\n",
      "CA    1250.0\n",
      "NY    3000.0\n",
      "TX    2250.0\n",
      "Name: Sales, dtype: float64\n"
     ]
    }
   ],
   "source": [
    "# Sample data (replace with your actual data)\n",
    "data = {\n",
    "    'State': ['CA', 'TX', 'CA', 'NY', 'TX'],\n",
    "    'Sales': [1000, 2000, 1500, 3000, 2500]\n",
    "}\n",
    "\n",
    "df = pd.DataFrame(data)\n",
    "\n",
    "# Calculate average sales per state\n",
    "average_sales_per_state = df.groupby('State')['Sales'].mean()\n",
    "\n",
    "# Print the result\n",
    "print(average_sales_per_state)\n"
   ]
  },
  {
   "cell_type": "markdown",
   "id": "455bcc79",
   "metadata": {},
   "source": [
    "# Task4"
   ]
  },
  {
   "cell_type": "code",
   "execution_count": 11,
   "id": "a8973869",
   "metadata": {},
   "outputs": [],
   "source": [
    "#On which Order Date, the Super Store Company generated lowest profit and displayed the  customer name and ID."
   ]
  },
  {
   "cell_type": "code",
   "execution_count": 12,
   "id": "4b6c23a8",
   "metadata": {},
   "outputs": [
    {
     "name": "stdout",
     "output_type": "stream",
     "text": [
      "                  Order Details  Profit\n",
      "2023-01-30 00:00:00, 180, Emily     200\n"
     ]
    }
   ],
   "source": [
    "import pandas as pd\n",
    "\n",
    "# Sample data (replace with your actual data)\n",
    "data = {\n",
    "    'Order Date': pd.to_datetime(['2023-01-10', '2023-02-15', '2023-01-20', '2023-02-20', '2023-01-30']),\n",
    "    'Customer ID': [100, 150, 120, 200, 180],\n",
    "    'Customer Name': ['Alice', 'Bob', 'Charlie', 'David', 'Emily'],\n",
    "    'Profit': [1000, 2500, 1500, 3000, 200]\n",
    "}\n",
    "\n",
    "df = pd.DataFrame(data)\n",
    "\n",
    "# Merge Order Date, Customer ID, and Customer Name into a single column\n",
    "df['Order Details'] = df[['Order Date', 'Customer ID', 'Customer Name']].apply(lambda x: ', '.join(x.astype(str)), axis=1)\n",
    "\n",
    "# Find the Order Date with the lowest profit\n",
    "date_of_lowest_profit = df[df['Profit'] == df['Profit'].min()]['Order Date']\n",
    "\n",
    "# Filter rows with the lowest profit date\n",
    "lowest_profit_data = df[df['Order Date'].isin(date_of_lowest_profit)]\n",
    "\n",
    "# Print the result\n",
    "print(lowest_profit_data[['Order Details', 'Profit']].to_string(index=False))\n"
   ]
  },
  {
   "cell_type": "markdown",
   "id": "b385af68",
   "metadata": {},
   "source": [
    "# Task3"
   ]
  },
  {
   "cell_type": "code",
   "execution_count": 13,
   "id": "f554d74a",
   "metadata": {},
   "outputs": [],
   "source": [
    "#Display the most used Ship Mode"
   ]
  },
  {
   "cell_type": "code",
   "execution_count": 14,
   "id": "eb40ceea",
   "metadata": {},
   "outputs": [
    {
     "name": "stdout",
     "output_type": "stream",
     "text": [
      "Most Used Ship Mode: Standard Class\n"
     ]
    }
   ],
   "source": [
    "import pandas as pd\n",
    "\n",
    "# Sample data (replace with your actual data)\n",
    "data = {\n",
    "    'Order ID': [1000, 1001, 1002, 1003, 1004],\n",
    "    'Ship Mode': ['Standard Class', 'Same Day', 'Standard Class', 'Next Day', 'Standard Class']\n",
    "}\n",
    "\n",
    "df = pd.DataFrame(data)\n",
    "\n",
    "# Calculate the number of times each Ship Mode is used\n",
    "ship_mode_counts = df['Ship Mode'].value_counts()\n",
    "\n",
    "# Find the most used Ship Mode\n",
    "most_used_ship_mode = ship_mode_counts.idxmax()\n",
    "\n",
    "# Print the result\n",
    "print(f\"Most Used Ship Mode: {most_used_ship_mode}\")\n"
   ]
  },
  {
   "cell_type": "markdown",
   "id": "fa73ffdb",
   "metadata": {},
   "source": [
    "# Task 6"
   ]
  },
  {
   "cell_type": "code",
   "execution_count": null,
   "id": "532795e3",
   "metadata": {},
   "outputs": [],
   "source": [
    "#Display the name of the Arizona’s customer who gave the highest profit to the company.\n"
   ]
  },
  {
   "cell_type": "code",
   "execution_count": 15,
   "id": "6d0db17e",
   "metadata": {},
   "outputs": [
    {
     "name": "stdout",
     "output_type": "stream",
     "text": [
      "Highest Profit Customer (AZ): Emily\n"
     ]
    }
   ],
   "source": [
    "# Sample data (replace with your actual data)\n",
    "data = {\n",
    "    'State': ['CA', 'AZ', 'CA', 'NY', 'AZ'],\n",
    "    'Customer Name': ['Alice', 'Bob', 'Charlie', 'David', 'Emily'],\n",
    "    'Profit': [1000, 2500, 1500, 3000, 4000]\n",
    "}\n",
    "\n",
    "df = pd.DataFrame(data)\n",
    "\n",
    "# Filter Arizona customers\n",
    "az_customers = df[df['State'] == 'AZ']\n",
    "\n",
    "# Find the Arizona customer with the highest profit\n",
    "highest_profit_customer_az = az_customers[az_customers['Profit'] == az_customers['Profit'].max()]['Customer Name']\n",
    "\n",
    "# Print the result (assuming there's only one customer with the highest profit)\n",
    "print(f\"Highest Profit Customer (AZ): {highest_profit_customer_az.iloc[0]}\")\n"
   ]
  },
  {
   "cell_type": "markdown",
   "id": "c8abf2e4",
   "metadata": {},
   "source": [
    "# Task 7"
   ]
  },
  {
   "cell_type": "code",
   "execution_count": 16,
   "id": "528bbd58",
   "metadata": {},
   "outputs": [],
   "source": [
    "#: Display the name of the state that generated the most profits. "
   ]
  },
  {
   "cell_type": "code",
   "execution_count": 17,
   "id": "b822bd73",
   "metadata": {},
   "outputs": [
    {
     "name": "stdout",
     "output_type": "stream",
     "text": [
      "State with Highest Total Profit: AZ\n"
     ]
    }
   ],
   "source": [
    "import pandas as pd\n",
    "\n",
    "# Sample data (replace with your actual data)\n",
    "data = {\n",
    "    'State': ['CA', 'AZ', 'CA', 'NY', 'AZ'],\n",
    "    'Profit': [1000, 2500, 1500, 3000, 4000]\n",
    "}\n",
    "\n",
    "df = pd.DataFrame(data)\n",
    "\n",
    "# Group by State and calculate total profit per state\n",
    "state_profits = df.groupby('State')['Profit'].sum()\n",
    "\n",
    "# Find the State with the highest total profit\n",
    "state_with_highest_profit = state_profits.idxmax()\n",
    "\n",
    "# Print the result\n",
    "print(f\"State with Highest Total Profit: {state_with_highest_profit}\")\n"
   ]
  },
  {
   "cell_type": "markdown",
   "id": "787e4c4e",
   "metadata": {},
   "source": [
    "# Task7"
   ]
  },
  {
   "cell_type": "code",
   "execution_count": 18,
   "id": "97147b8e",
   "metadata": {},
   "outputs": [],
   "source": [
    "# Display the name of the Category that generated the most sales."
   ]
  },
  {
   "cell_type": "code",
   "execution_count": 19,
   "id": "c8d485fd",
   "metadata": {},
   "outputs": [
    {
     "name": "stdout",
     "output_type": "stream",
     "text": [
      "Category with Highest Total Sales: Electronics\n"
     ]
    }
   ],
   "source": [
    "import pandas as pd\n",
    "\n",
    "# Sample data (replace with your actual data)\n",
    "data = {\n",
    "    'Category': ['Electronics', 'Furniture', 'Electronics', 'Clothing', 'Furniture'],\n",
    "    'Sales': [10000, 8000, 12000, 9000, 7000]\n",
    "}\n",
    "\n",
    "df = pd.DataFrame(data)\n",
    "\n",
    "# Group by Category and calculate total sales per category\n",
    "category_sales = df.groupby('Category')['Sales'].sum()\n",
    "\n",
    "# Find the Category with the highest total sales\n",
    "category_with_highest_sales = category_sales.idxmax()\n",
    "\n",
    "# Print the result\n",
    "print(f\"Category with Highest Total Sales: {category_with_highest_sales}\")\n"
   ]
  },
  {
   "cell_type": "code",
   "execution_count": null,
   "id": "a5b02968",
   "metadata": {},
   "outputs": [],
   "source": []
  }
 ],
 "metadata": {
  "kernelspec": {
   "display_name": "Python 3 (ipykernel)",
   "language": "python",
   "name": "python3"
  },
  "language_info": {
   "codemirror_mode": {
    "name": "ipython",
    "version": 3
   },
   "file_extension": ".py",
   "mimetype": "text/x-python",
   "name": "python",
   "nbconvert_exporter": "python",
   "pygments_lexer": "ipython3",
   "version": "3.11.7"
  }
 },
 "nbformat": 4,
 "nbformat_minor": 5
}
